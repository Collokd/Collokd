{
  "nbformat": 4,
  "nbformat_minor": 0,
  "metadata": {
    "colab": {
      "name": "Moringa_Data_Science_Core_W2_Independent_Project_2020_05_Collins_Kemboi_Python_Notebook",
      "provenance": [],
      "collapsed_sections": [
        "kLG2VTrnTvYL",
        "XecOwPNorl2W",
        "J4wfHZwQrs-t",
        "a9BPYqunry97",
        "7KMRBJ7zr9HD",
        "zSGyg6kWsBUl",
        "iUNbvIvnT7ep",
        "OI3P3YnHUEBk",
        "ckfufNrcUHeH",
        "6XC_g-zKxe-r",
        "FlBMxEDBUc9B",
        "rF2ABPsHUtbZ",
        "vTbdjSrhVIiT",
        "lQ2G4ZPDVOXE",
        "xrmHVMVsVS--",
        "HPQviDmNtta8",
        "qjFHK1CKty7o",
        "HSsicSdvt4Zs"
      ],
      "include_colab_link": true
    },
    "kernelspec": {
      "name": "python3",
      "display_name": "Python 3"
    }
  },
  "cells": [
    {
      "cell_type": "markdown",
      "metadata": {
        "id": "view-in-github",
        "colab_type": "text"
      },
      "source": [
        "<a href=\"https://colab.research.google.com/github/Collokd/Collokd/blob/master/Moringa_Data_Science_Core_W2_Independent_Project_2020_05_Collins_Kemboi_Python_Notebook.ipynb\" target=\"_parent\"><img src=\"https://colab.research.google.com/assets/colab-badge.svg\" alt=\"Open In Colab\"/></a>"
      ]
    },
    {
      "cell_type": "markdown",
      "metadata": {
        "id": "xMxtPsqcTsSH",
        "colab_type": "text"
      },
      "source": [
        "# Exploratory Data Analysis"
      ]
    },
    {
      "cell_type": "markdown",
      "metadata": {
        "id": "kLG2VTrnTvYL",
        "colab_type": "text"
      },
      "source": [
        "## 1. Defining the Question"
      ]
    },
    {
      "cell_type": "markdown",
      "metadata": {
        "id": "XecOwPNorl2W",
        "colab_type": "text"
      },
      "source": [
        "### a) Specifying the Question"
      ]
    },
    {
      "cell_type": "markdown",
      "metadata": {
        "id": "8l3-hBO6bODP",
        "colab_type": "text"
      },
      "source": [
        "> The research problem is to figure out how we can predict which individuals are most likely to have or use a bank account. Your solution will help provide an indication of the state of financial inclusion in Kenya, Rwanda, Tanzania, and Uganda, while providing insights into some of the key demographic factors that might drive individuals’ financial outcomes."
      ]
    },
    {
      "cell_type": "markdown",
      "metadata": {
        "id": "J4wfHZwQrs-t",
        "colab_type": "text"
      },
      "source": [
        "### b) Defining the Metric for Success"
      ]
    },
    {
      "cell_type": "markdown",
      "metadata": {
        "id": "a9BPYqunry97",
        "colab_type": "text"
      },
      "source": [
        "### c) Understanding the context "
      ]
    },
    {
      "cell_type": "markdown",
      "metadata": {
        "id": "7KMRBJ7zr9HD",
        "colab_type": "text"
      },
      "source": [
        "### d) Recording the Experimental Design"
      ]
    },
    {
      "cell_type": "markdown",
      "metadata": {
        "id": "zSGyg6kWsBUl",
        "colab_type": "text"
      },
      "source": [
        "### e) Data Relevance"
      ]
    },
    {
      "cell_type": "markdown",
      "metadata": {
        "id": "iUNbvIvnT7ep",
        "colab_type": "text"
      },
      "source": [
        "## 2. Reading the Data"
      ]
    },
    {
      "cell_type": "code",
      "metadata": {
        "id": "XJn2KjW-WMlG",
        "colab_type": "code",
        "outputId": "5f156576-834b-4b97-903c-055d569b30a9",
        "colab": {
          "base_uri": "https://localhost:8080/",
          "height": 70
        }
      },
      "source": [
        "# Loading the Data from the source\n",
        "# Dataset url = http://bit.ly/FinancialDataset\n",
        "#\n",
        "\n",
        "import pandas as pd\n",
        "\n",
        "import numpy as np\n",
        "\n",
        "import seaborn as sns\n",
        "\n",
        "import matplotlib\n",
        "\n",
        "from matplotlib import pyplot as plt"
      ],
      "execution_count": 2,
      "outputs": [
        {
          "output_type": "stream",
          "text": [
            "/usr/local/lib/python3.6/dist-packages/statsmodels/tools/_testing.py:19: FutureWarning: pandas.util.testing is deprecated. Use the functions in the public API at pandas.testing instead.\n",
            "  import pandas.util.testing as tm\n"
          ],
          "name": "stderr"
        }
      ]
    },
    {
      "cell_type": "code",
      "metadata": {
        "id": "LKzwUozhanmy",
        "colab_type": "code",
        "outputId": "f2f233fb-f338-4fd3-8544-c765fa4215d6",
        "colab": {
          "base_uri": "https://localhost:8080/",
          "height": 315
        }
      },
      "source": [
        "# Loading the Data from the source i.e. csv\n",
        "\n",
        "url = 'http://bit.ly/FinancialDataset'\n",
        "df = pd.read_csv(url)\n",
        "df.head()"
      ],
      "execution_count": 3,
      "outputs": [
        {
          "output_type": "execute_result",
          "data": {
            "text/html": [
              "<div>\n",
              "<style scoped>\n",
              "    .dataframe tbody tr th:only-of-type {\n",
              "        vertical-align: middle;\n",
              "    }\n",
              "\n",
              "    .dataframe tbody tr th {\n",
              "        vertical-align: top;\n",
              "    }\n",
              "\n",
              "    .dataframe thead th {\n",
              "        text-align: right;\n",
              "    }\n",
              "</style>\n",
              "<table border=\"1\" class=\"dataframe\">\n",
              "  <thead>\n",
              "    <tr style=\"text-align: right;\">\n",
              "      <th></th>\n",
              "      <th>country</th>\n",
              "      <th>year</th>\n",
              "      <th>uniqueid</th>\n",
              "      <th>Has a Bank account</th>\n",
              "      <th>Type of Location</th>\n",
              "      <th>Cell Phone Access</th>\n",
              "      <th>household_size</th>\n",
              "      <th>Respondent Age</th>\n",
              "      <th>gender_of_respondent</th>\n",
              "      <th>The relathip with head</th>\n",
              "      <th>marital_status</th>\n",
              "      <th>Level of Educuation</th>\n",
              "      <th>Type of Job</th>\n",
              "    </tr>\n",
              "  </thead>\n",
              "  <tbody>\n",
              "    <tr>\n",
              "      <th>0</th>\n",
              "      <td>Kenya</td>\n",
              "      <td>2018</td>\n",
              "      <td>uniqueid_1</td>\n",
              "      <td>Yes</td>\n",
              "      <td>Rural</td>\n",
              "      <td>Yes</td>\n",
              "      <td>3.0</td>\n",
              "      <td>24.0</td>\n",
              "      <td>Female</td>\n",
              "      <td>Spouse</td>\n",
              "      <td>Married/Living together</td>\n",
              "      <td>Secondary education</td>\n",
              "      <td>Self employed</td>\n",
              "    </tr>\n",
              "    <tr>\n",
              "      <th>1</th>\n",
              "      <td>Kenya</td>\n",
              "      <td>2018</td>\n",
              "      <td>uniqueid_2</td>\n",
              "      <td>No</td>\n",
              "      <td>Rural</td>\n",
              "      <td>No</td>\n",
              "      <td>5.0</td>\n",
              "      <td>70.0</td>\n",
              "      <td>Female</td>\n",
              "      <td>Head of Household</td>\n",
              "      <td>Widowed</td>\n",
              "      <td>No formal education</td>\n",
              "      <td>Government Dependent</td>\n",
              "    </tr>\n",
              "    <tr>\n",
              "      <th>2</th>\n",
              "      <td>Kenya</td>\n",
              "      <td>2018</td>\n",
              "      <td>uniqueid_3</td>\n",
              "      <td>Yes</td>\n",
              "      <td>Urban</td>\n",
              "      <td>Yes</td>\n",
              "      <td>5.0</td>\n",
              "      <td>26.0</td>\n",
              "      <td>Male</td>\n",
              "      <td>Other relative</td>\n",
              "      <td>Single/Never Married</td>\n",
              "      <td>Vocational/Specialised training</td>\n",
              "      <td>Self employed</td>\n",
              "    </tr>\n",
              "    <tr>\n",
              "      <th>3</th>\n",
              "      <td>Kenya</td>\n",
              "      <td>2018</td>\n",
              "      <td>uniqueid_4</td>\n",
              "      <td>No</td>\n",
              "      <td>Rural</td>\n",
              "      <td>Yes</td>\n",
              "      <td>5.0</td>\n",
              "      <td>34.0</td>\n",
              "      <td>Female</td>\n",
              "      <td>Head of Household</td>\n",
              "      <td>Married/Living together</td>\n",
              "      <td>Primary education</td>\n",
              "      <td>Formally employed Private</td>\n",
              "    </tr>\n",
              "    <tr>\n",
              "      <th>4</th>\n",
              "      <td>Kenya</td>\n",
              "      <td>2018</td>\n",
              "      <td>uniqueid_5</td>\n",
              "      <td>No</td>\n",
              "      <td>Urban</td>\n",
              "      <td>No</td>\n",
              "      <td>8.0</td>\n",
              "      <td>26.0</td>\n",
              "      <td>Male</td>\n",
              "      <td>Child</td>\n",
              "      <td>Single/Never Married</td>\n",
              "      <td>Primary education</td>\n",
              "      <td>Informally employed</td>\n",
              "    </tr>\n",
              "  </tbody>\n",
              "</table>\n",
              "</div>"
            ],
            "text/plain": [
              "  country  year  ...              Level of Educuation                Type of Job\n",
              "0   Kenya  2018  ...              Secondary education              Self employed\n",
              "1   Kenya  2018  ...              No formal education       Government Dependent\n",
              "2   Kenya  2018  ...  Vocational/Specialised training              Self employed\n",
              "3   Kenya  2018  ...                Primary education  Formally employed Private\n",
              "4   Kenya  2018  ...                Primary education        Informally employed\n",
              "\n",
              "[5 rows x 13 columns]"
            ]
          },
          "metadata": {
            "tags": []
          },
          "execution_count": 3
        }
      ]
    },
    {
      "cell_type": "markdown",
      "metadata": {
        "id": "OI3P3YnHUEBk",
        "colab_type": "text"
      },
      "source": [
        "## 3. Checking the Data"
      ]
    },
    {
      "cell_type": "code",
      "metadata": {
        "id": "YjSVNwgptHxY",
        "colab_type": "code",
        "outputId": "dc8311c2-7d42-4135-d9f6-cd5d670c488d",
        "colab": {
          "base_uri": "https://localhost:8080/",
          "height": 252
        }
      },
      "source": [
        "# Determining the no. of records in our dataset\n",
        "#\n",
        "df.count()"
      ],
      "execution_count": 4,
      "outputs": [
        {
          "output_type": "execute_result",
          "data": {
            "text/plain": [
              "country                   23510\n",
              "year                      23524\n",
              "uniqueid                  23524\n",
              "Has a Bank account        23488\n",
              "Type of Location          23509\n",
              "Cell Phone Access         23513\n",
              "household_size            23496\n",
              "Respondent Age            23490\n",
              "gender_of_respondent      23490\n",
              "The relathip with head    23520\n",
              "marital_status            23492\n",
              "Level of Educuation       23495\n",
              "Type of Job               23494\n",
              "dtype: int64"
            ]
          },
          "metadata": {
            "tags": []
          },
          "execution_count": 4
        }
      ]
    },
    {
      "cell_type": "code",
      "metadata": {
        "id": "xHhTw5eKWr0n",
        "colab_type": "code",
        "outputId": "5e659f8d-51ed-4eb7-aaa6-e501c73a693e",
        "colab": {
          "base_uri": "https://localhost:8080/",
          "height": 315
        }
      },
      "source": [
        "# Previewing the top of our dataset\n",
        "#\n",
        "df.head()"
      ],
      "execution_count": 5,
      "outputs": [
        {
          "output_type": "execute_result",
          "data": {
            "text/html": [
              "<div>\n",
              "<style scoped>\n",
              "    .dataframe tbody tr th:only-of-type {\n",
              "        vertical-align: middle;\n",
              "    }\n",
              "\n",
              "    .dataframe tbody tr th {\n",
              "        vertical-align: top;\n",
              "    }\n",
              "\n",
              "    .dataframe thead th {\n",
              "        text-align: right;\n",
              "    }\n",
              "</style>\n",
              "<table border=\"1\" class=\"dataframe\">\n",
              "  <thead>\n",
              "    <tr style=\"text-align: right;\">\n",
              "      <th></th>\n",
              "      <th>country</th>\n",
              "      <th>year</th>\n",
              "      <th>uniqueid</th>\n",
              "      <th>Has a Bank account</th>\n",
              "      <th>Type of Location</th>\n",
              "      <th>Cell Phone Access</th>\n",
              "      <th>household_size</th>\n",
              "      <th>Respondent Age</th>\n",
              "      <th>gender_of_respondent</th>\n",
              "      <th>The relathip with head</th>\n",
              "      <th>marital_status</th>\n",
              "      <th>Level of Educuation</th>\n",
              "      <th>Type of Job</th>\n",
              "    </tr>\n",
              "  </thead>\n",
              "  <tbody>\n",
              "    <tr>\n",
              "      <th>0</th>\n",
              "      <td>Kenya</td>\n",
              "      <td>2018</td>\n",
              "      <td>uniqueid_1</td>\n",
              "      <td>Yes</td>\n",
              "      <td>Rural</td>\n",
              "      <td>Yes</td>\n",
              "      <td>3.0</td>\n",
              "      <td>24.0</td>\n",
              "      <td>Female</td>\n",
              "      <td>Spouse</td>\n",
              "      <td>Married/Living together</td>\n",
              "      <td>Secondary education</td>\n",
              "      <td>Self employed</td>\n",
              "    </tr>\n",
              "    <tr>\n",
              "      <th>1</th>\n",
              "      <td>Kenya</td>\n",
              "      <td>2018</td>\n",
              "      <td>uniqueid_2</td>\n",
              "      <td>No</td>\n",
              "      <td>Rural</td>\n",
              "      <td>No</td>\n",
              "      <td>5.0</td>\n",
              "      <td>70.0</td>\n",
              "      <td>Female</td>\n",
              "      <td>Head of Household</td>\n",
              "      <td>Widowed</td>\n",
              "      <td>No formal education</td>\n",
              "      <td>Government Dependent</td>\n",
              "    </tr>\n",
              "    <tr>\n",
              "      <th>2</th>\n",
              "      <td>Kenya</td>\n",
              "      <td>2018</td>\n",
              "      <td>uniqueid_3</td>\n",
              "      <td>Yes</td>\n",
              "      <td>Urban</td>\n",
              "      <td>Yes</td>\n",
              "      <td>5.0</td>\n",
              "      <td>26.0</td>\n",
              "      <td>Male</td>\n",
              "      <td>Other relative</td>\n",
              "      <td>Single/Never Married</td>\n",
              "      <td>Vocational/Specialised training</td>\n",
              "      <td>Self employed</td>\n",
              "    </tr>\n",
              "    <tr>\n",
              "      <th>3</th>\n",
              "      <td>Kenya</td>\n",
              "      <td>2018</td>\n",
              "      <td>uniqueid_4</td>\n",
              "      <td>No</td>\n",
              "      <td>Rural</td>\n",
              "      <td>Yes</td>\n",
              "      <td>5.0</td>\n",
              "      <td>34.0</td>\n",
              "      <td>Female</td>\n",
              "      <td>Head of Household</td>\n",
              "      <td>Married/Living together</td>\n",
              "      <td>Primary education</td>\n",
              "      <td>Formally employed Private</td>\n",
              "    </tr>\n",
              "    <tr>\n",
              "      <th>4</th>\n",
              "      <td>Kenya</td>\n",
              "      <td>2018</td>\n",
              "      <td>uniqueid_5</td>\n",
              "      <td>No</td>\n",
              "      <td>Urban</td>\n",
              "      <td>No</td>\n",
              "      <td>8.0</td>\n",
              "      <td>26.0</td>\n",
              "      <td>Male</td>\n",
              "      <td>Child</td>\n",
              "      <td>Single/Never Married</td>\n",
              "      <td>Primary education</td>\n",
              "      <td>Informally employed</td>\n",
              "    </tr>\n",
              "  </tbody>\n",
              "</table>\n",
              "</div>"
            ],
            "text/plain": [
              "  country  year  ...              Level of Educuation                Type of Job\n",
              "0   Kenya  2018  ...              Secondary education              Self employed\n",
              "1   Kenya  2018  ...              No formal education       Government Dependent\n",
              "2   Kenya  2018  ...  Vocational/Specialised training              Self employed\n",
              "3   Kenya  2018  ...                Primary education  Formally employed Private\n",
              "4   Kenya  2018  ...                Primary education        Informally employed\n",
              "\n",
              "[5 rows x 13 columns]"
            ]
          },
          "metadata": {
            "tags": []
          },
          "execution_count": 5
        }
      ]
    },
    {
      "cell_type": "code",
      "metadata": {
        "id": "e9AzGcZFrIIr",
        "colab_type": "code",
        "outputId": "0da42c85-1e74-482c-bbdf-8ff2ac661d94",
        "colab": {
          "base_uri": "https://localhost:8080/",
          "height": 298
        }
      },
      "source": [
        "# Previewing the bottom of our dataset\n",
        "# \n",
        "df.tail()"
      ],
      "execution_count": 6,
      "outputs": [
        {
          "output_type": "execute_result",
          "data": {
            "text/html": [
              "<div>\n",
              "<style scoped>\n",
              "    .dataframe tbody tr th:only-of-type {\n",
              "        vertical-align: middle;\n",
              "    }\n",
              "\n",
              "    .dataframe tbody tr th {\n",
              "        vertical-align: top;\n",
              "    }\n",
              "\n",
              "    .dataframe thead th {\n",
              "        text-align: right;\n",
              "    }\n",
              "</style>\n",
              "<table border=\"1\" class=\"dataframe\">\n",
              "  <thead>\n",
              "    <tr style=\"text-align: right;\">\n",
              "      <th></th>\n",
              "      <th>country</th>\n",
              "      <th>year</th>\n",
              "      <th>uniqueid</th>\n",
              "      <th>Has a Bank account</th>\n",
              "      <th>Type of Location</th>\n",
              "      <th>Cell Phone Access</th>\n",
              "      <th>household_size</th>\n",
              "      <th>Respondent Age</th>\n",
              "      <th>gender_of_respondent</th>\n",
              "      <th>The relathip with head</th>\n",
              "      <th>marital_status</th>\n",
              "      <th>Level of Educuation</th>\n",
              "      <th>Type of Job</th>\n",
              "    </tr>\n",
              "  </thead>\n",
              "  <tbody>\n",
              "    <tr>\n",
              "      <th>23519</th>\n",
              "      <td>Uganda</td>\n",
              "      <td>2018</td>\n",
              "      <td>uniqueid_2113</td>\n",
              "      <td>No</td>\n",
              "      <td>Rural</td>\n",
              "      <td>Yes</td>\n",
              "      <td>4.0</td>\n",
              "      <td>48.0</td>\n",
              "      <td>Female</td>\n",
              "      <td>Head of Household</td>\n",
              "      <td>Divorced/Seperated</td>\n",
              "      <td>No formal education</td>\n",
              "      <td>Other Income</td>\n",
              "    </tr>\n",
              "    <tr>\n",
              "      <th>23520</th>\n",
              "      <td>Uganda</td>\n",
              "      <td>2018</td>\n",
              "      <td>uniqueid_2114</td>\n",
              "      <td>No</td>\n",
              "      <td>Rural</td>\n",
              "      <td>Yes</td>\n",
              "      <td>2.0</td>\n",
              "      <td>27.0</td>\n",
              "      <td>Female</td>\n",
              "      <td>Head of Household</td>\n",
              "      <td>Single/Never Married</td>\n",
              "      <td>Secondary education</td>\n",
              "      <td>Other Income</td>\n",
              "    </tr>\n",
              "    <tr>\n",
              "      <th>23521</th>\n",
              "      <td>Uganda</td>\n",
              "      <td>2018</td>\n",
              "      <td>uniqueid_2115</td>\n",
              "      <td>No</td>\n",
              "      <td>Rural</td>\n",
              "      <td>Yes</td>\n",
              "      <td>5.0</td>\n",
              "      <td>27.0</td>\n",
              "      <td>Female</td>\n",
              "      <td>Parent</td>\n",
              "      <td>Widowed</td>\n",
              "      <td>Primary education</td>\n",
              "      <td>Other Income</td>\n",
              "    </tr>\n",
              "    <tr>\n",
              "      <th>23522</th>\n",
              "      <td>Uganda</td>\n",
              "      <td>2018</td>\n",
              "      <td>uniqueid_2116</td>\n",
              "      <td>No</td>\n",
              "      <td>Urban</td>\n",
              "      <td>Yes</td>\n",
              "      <td>7.0</td>\n",
              "      <td>30.0</td>\n",
              "      <td>Female</td>\n",
              "      <td>Parent</td>\n",
              "      <td>Divorced/Seperated</td>\n",
              "      <td>Secondary education</td>\n",
              "      <td>Self employed</td>\n",
              "    </tr>\n",
              "    <tr>\n",
              "      <th>23523</th>\n",
              "      <td>Uganda</td>\n",
              "      <td>2018</td>\n",
              "      <td>uniqueid_2117</td>\n",
              "      <td>No</td>\n",
              "      <td>Rural</td>\n",
              "      <td>Yes</td>\n",
              "      <td>10.0</td>\n",
              "      <td>20.0</td>\n",
              "      <td>Male</td>\n",
              "      <td>Child</td>\n",
              "      <td>Single/Never Married</td>\n",
              "      <td>Secondary education</td>\n",
              "      <td>No Income</td>\n",
              "    </tr>\n",
              "  </tbody>\n",
              "</table>\n",
              "</div>"
            ],
            "text/plain": [
              "      country  year  ...  Level of Educuation    Type of Job\n",
              "23519  Uganda  2018  ...  No formal education   Other Income\n",
              "23520  Uganda  2018  ...  Secondary education   Other Income\n",
              "23521  Uganda  2018  ...    Primary education   Other Income\n",
              "23522  Uganda  2018  ...  Secondary education  Self employed\n",
              "23523  Uganda  2018  ...  Secondary education      No Income\n",
              "\n",
              "[5 rows x 13 columns]"
            ]
          },
          "metadata": {
            "tags": []
          },
          "execution_count": 6
        }
      ]
    },
    {
      "cell_type": "code",
      "metadata": {
        "id": "n8-dW4sQWzbc",
        "colab_type": "code",
        "outputId": "faf8b45a-81f9-47dd-8cb3-10fe33f3509f",
        "colab": {
          "base_uri": "https://localhost:8080/",
          "height": 353
        }
      },
      "source": [
        "# Checking whether each column has an appropriate datatype\n",
        "#\n",
        "df.info()"
      ],
      "execution_count": 7,
      "outputs": [
        {
          "output_type": "stream",
          "text": [
            "<class 'pandas.core.frame.DataFrame'>\n",
            "RangeIndex: 23524 entries, 0 to 23523\n",
            "Data columns (total 13 columns):\n",
            " #   Column                  Non-Null Count  Dtype  \n",
            "---  ------                  --------------  -----  \n",
            " 0   country                 23510 non-null  object \n",
            " 1   year                    23524 non-null  int64  \n",
            " 2   uniqueid                23524 non-null  object \n",
            " 3   Has a Bank account      23488 non-null  object \n",
            " 4   Type of Location        23509 non-null  object \n",
            " 5   Cell Phone Access       23513 non-null  object \n",
            " 6   household_size          23496 non-null  float64\n",
            " 7   Respondent Age          23490 non-null  float64\n",
            " 8   gender_of_respondent    23490 non-null  object \n",
            " 9   The relathip with head  23520 non-null  object \n",
            " 10  marital_status          23492 non-null  object \n",
            " 11  Level of Educuation     23495 non-null  object \n",
            " 12  Type of Job             23494 non-null  object \n",
            "dtypes: float64(2), int64(1), object(10)\n",
            "memory usage: 2.3+ MB\n"
          ],
          "name": "stdout"
        }
      ]
    },
    {
      "cell_type": "markdown",
      "metadata": {
        "id": "ckfufNrcUHeH",
        "colab_type": "text"
      },
      "source": [
        "## 4. External Data Source Validation"
      ]
    },
    {
      "cell_type": "markdown",
      "metadata": {
        "id": "6XC_g-zKxe-r",
        "colab_type": "text"
      },
      "source": [
        "### a.Validation"
      ]
    },
    {
      "cell_type": "code",
      "metadata": {
        "id": "UYB_nilDb7B9",
        "colab_type": "code",
        "outputId": "9ca25bd9-7615-406a-d36a-65685a2a471c",
        "colab": {
          "base_uri": "https://localhost:8080/",
          "height": 353
        }
      },
      "source": [
        "df.info()"
      ],
      "execution_count": 8,
      "outputs": [
        {
          "output_type": "stream",
          "text": [
            "<class 'pandas.core.frame.DataFrame'>\n",
            "RangeIndex: 23524 entries, 0 to 23523\n",
            "Data columns (total 13 columns):\n",
            " #   Column                  Non-Null Count  Dtype  \n",
            "---  ------                  --------------  -----  \n",
            " 0   country                 23510 non-null  object \n",
            " 1   year                    23524 non-null  int64  \n",
            " 2   uniqueid                23524 non-null  object \n",
            " 3   Has a Bank account      23488 non-null  object \n",
            " 4   Type of Location        23509 non-null  object \n",
            " 5   Cell Phone Access       23513 non-null  object \n",
            " 6   household_size          23496 non-null  float64\n",
            " 7   Respondent Age          23490 non-null  float64\n",
            " 8   gender_of_respondent    23490 non-null  object \n",
            " 9   The relathip with head  23520 non-null  object \n",
            " 10  marital_status          23492 non-null  object \n",
            " 11  Level of Educuation     23495 non-null  object \n",
            " 12  Type of Job             23494 non-null  object \n",
            "dtypes: float64(2), int64(1), object(10)\n",
            "memory usage: 2.3+ MB\n"
          ],
          "name": "stdout"
        }
      ]
    },
    {
      "cell_type": "code",
      "metadata": {
        "id": "JNZHUNq_b_9L",
        "colab_type": "code",
        "outputId": "b5f65ec5-7094-41e6-815a-c3c52539204d",
        "colab": {
          "base_uri": "https://localhost:8080/",
          "height": 101
        }
      },
      "source": [
        "df.columns"
      ],
      "execution_count": 9,
      "outputs": [
        {
          "output_type": "execute_result",
          "data": {
            "text/plain": [
              "Index(['country', 'year', 'uniqueid', 'Has a Bank account', 'Type of Location',\n",
              "       'Cell Phone Access', 'household_size', 'Respondent Age',\n",
              "       'gender_of_respondent', 'The relathip with head', 'marital_status',\n",
              "       'Level of Educuation', 'Type of Job'],\n",
              "      dtype='object')"
            ]
          },
          "metadata": {
            "tags": []
          },
          "execution_count": 9
        }
      ]
    },
    {
      "cell_type": "code",
      "metadata": {
        "id": "ZY4vLwOUcF4k",
        "colab_type": "code",
        "outputId": "a7a2efd3-7c4d-42a2-ab2a-20f1bffa6bd7",
        "colab": {
          "base_uri": "https://localhost:8080/",
          "height": 34
        }
      },
      "source": [
        "df['Type of Location'].unique()"
      ],
      "execution_count": 10,
      "outputs": [
        {
          "output_type": "execute_result",
          "data": {
            "text/plain": [
              "array(['Rural', 'Urban', nan], dtype=object)"
            ]
          },
          "metadata": {
            "tags": []
          },
          "execution_count": 10
        }
      ]
    },
    {
      "cell_type": "code",
      "metadata": {
        "id": "B9JAxkJID2-6",
        "colab_type": "code",
        "colab": {
          "base_uri": "https://localhost:8080/",
          "height": 84
        },
        "outputId": "afbfe586-d10b-4bae-bdb1-e070748def17"
      },
      "source": [
        "df['Level of Educuation'].unique()"
      ],
      "execution_count": 11,
      "outputs": [
        {
          "output_type": "execute_result",
          "data": {
            "text/plain": [
              "array(['Secondary education', 'No formal education',\n",
              "       'Vocational/Specialised training', 'Primary education',\n",
              "       'Tertiary education', 'Other/Dont know/RTA', '6', nan],\n",
              "      dtype=object)"
            ]
          },
          "metadata": {
            "tags": []
          },
          "execution_count": 11
        }
      ]
    },
    {
      "cell_type": "code",
      "metadata": {
        "id": "VciubyzmEIfW",
        "colab_type": "code",
        "colab": {
          "base_uri": "https://localhost:8080/",
          "height": 101
        },
        "outputId": "94c447b9-dd99-4cd6-b932-52fbf06dba1b"
      },
      "source": [
        "df['Type of Job' ].unique()"
      ],
      "execution_count": 12,
      "outputs": [
        {
          "output_type": "execute_result",
          "data": {
            "text/plain": [
              "array(['Self employed', 'Government Dependent',\n",
              "       'Formally employed Private', 'Informally employed',\n",
              "       'Formally employed Government', 'Farming and Fishing',\n",
              "       'Remittance Dependent', 'Other Income',\n",
              "       'Dont Know/Refuse to answer', nan, 'No Income'], dtype=object)"
            ]
          },
          "metadata": {
            "tags": []
          },
          "execution_count": 12
        }
      ]
    },
    {
      "cell_type": "code",
      "metadata": {
        "id": "aH6hvfx8Vvd_",
        "colab_type": "code",
        "colab": {
          "base_uri": "https://localhost:8080/",
          "height": 34
        },
        "outputId": "e959df08-85b0-4721-efef-a91b300c032f"
      },
      "source": [
        "df['year'].unique()"
      ],
      "execution_count": 13,
      "outputs": [
        {
          "output_type": "execute_result",
          "data": {
            "text/plain": [
              "array([2018, 2029, 2056, 2016, 2039, 2017])"
            ]
          },
          "metadata": {
            "tags": []
          },
          "execution_count": 13
        }
      ]
    },
    {
      "cell_type": "markdown",
      "metadata": {
        "id": "FlBMxEDBUc9B",
        "colab_type": "text"
      },
      "source": [
        "## 5. Tidying the Dataset"
      ]
    },
    {
      "cell_type": "code",
      "metadata": {
        "id": "3i5h5XO4cI6p",
        "colab_type": "code",
        "colab": {
          "base_uri": "https://localhost:8080/",
          "height": 34
        },
        "outputId": "8e1d67d2-2366-4f8d-f602-040ac52da9bc"
      },
      "source": [
        "df.shape"
      ],
      "execution_count": 14,
      "outputs": [
        {
          "output_type": "execute_result",
          "data": {
            "text/plain": [
              "(23524, 13)"
            ]
          },
          "metadata": {
            "tags": []
          },
          "execution_count": 14
        }
      ]
    },
    {
      "cell_type": "code",
      "metadata": {
        "id": "5o_bQcT5W3Wz",
        "colab_type": "code",
        "outputId": "b3f52d08-0dac-4395-da47-33b01a1cf051",
        "colab": {
          "base_uri": "https://localhost:8080/",
          "height": 880
        }
      },
      "source": [
        "# Checking for Outliers\n",
        "#\n",
        "col_names = ['year', 'household_size', 'Respondent Age']\n",
        "\n",
        "fig, ax = plt.subplots(len(col_names), figsize=(8,15))\n",
        "\n",
        "for i, col_val in enumerate(col_names):\n",
        "  sns.boxplot(y=df[col_val], notch=True, ax=ax[i])\n",
        "  ax[i].set_title('Box plot - {}'.format(col_val), fontsize=10)\n",
        "  ax[i].set_xlabel(col_val, fontsize=8)\n",
        "\n",
        "plt.show()"
      ],
      "execution_count": 15,
      "outputs": [
        {
          "output_type": "display_data",
          "data": {
            "image/png": "[encoded data removed]",
            "text/plain": [
              "<Figure size 576x1080 with 3 Axes>"
            ]
          },
          "metadata": {
            "tags": [],
            "needs_background": "light"
          }
        }
      ]
    },
    {
      "cell_type": "code",
      "metadata": {
        "id": "PWlukLKUvFQN",
        "colab_type": "code",
        "colab": {
          "base_uri": "https://localhost:8080/",
          "height": 50
        },
        "outputId": "76c7cd3b-e4ab-414c-ebda-6e67bb98682d"
      },
      "source": [
        "# Checking for Anomalies\n",
        "#\n",
        "q1_HS = df['household_size'].quantile(.25)\n",
        "q3_HS = df['household_size'].quantile(.75)\n",
        "\n",
        "iqr_HS = q3_HS - q1_HS\n",
        "\n",
        "print(iqr_HS)\n",
        "\n",
        "q1_RA = df['Respondent Age'].quantile(.25)\n",
        "q3_RA = df['Respondent Age'].quantile(.75)\n",
        "\n",
        "iqr_RA = q3_RA - q1_RA\n",
        "\n",
        "print(iqr_RA)"
      ],
      "execution_count": 16,
      "outputs": [
        {
          "output_type": "stream",
          "text": [
            "3.0\n",
            "23.0\n"
          ],
          "name": "stdout"
        }
      ]
    },
    {
      "cell_type": "code",
      "metadata": {
        "id": "PvCYb6dgW4yh",
        "colab_type": "code",
        "outputId": "535a8a65-ba95-46b4-b400-0017c6ebfbfe",
        "colab": {
          "base_uri": "https://localhost:8080/",
          "height": 34
        }
      },
      "source": [
        "# Identifying the Missing Data\n",
        "#\n",
        "df.isnull().values.any()"
      ],
      "execution_count": 17,
      "outputs": [
        {
          "output_type": "execute_result",
          "data": {
            "text/plain": [
              "True"
            ]
          },
          "metadata": {
            "tags": []
          },
          "execution_count": 17
        }
      ]
    },
    {
      "cell_type": "code",
      "metadata": {
        "id": "MpsDGKZHsf_W",
        "colab_type": "code",
        "colab": {
          "base_uri": "https://localhost:8080/",
          "height": 252
        },
        "outputId": "db053873-69ce-4991-efdf-02eb9df79e90"
      },
      "source": [
        "# Dealing with the Missing Data\n",
        "#\n",
        "df.isnull().sum()"
      ],
      "execution_count": 18,
      "outputs": [
        {
          "output_type": "execute_result",
          "data": {
            "text/plain": [
              "country                   14\n",
              "year                       0\n",
              "uniqueid                   0\n",
              "Has a Bank account        36\n",
              "Type of Location          15\n",
              "Cell Phone Access         11\n",
              "household_size            28\n",
              "Respondent Age            34\n",
              "gender_of_respondent      34\n",
              "The relathip with head     4\n",
              "marital_status            32\n",
              "Level of Educuation       29\n",
              "Type of Job               30\n",
              "dtype: int64"
            ]
          },
          "metadata": {
            "tags": []
          },
          "execution_count": 18
        }
      ]
    },
    {
      "cell_type": "code",
      "metadata": {
        "id": "HzREnKKRNJPU",
        "colab_type": "code",
        "colab": {}
      },
      "source": [
        "df = df.dropna()"
      ],
      "execution_count": 0,
      "outputs": []
    },
    {
      "cell_type": "code",
      "metadata": {
        "id": "PjkVVZfRNT_w",
        "colab_type": "code",
        "colab": {
          "base_uri": "https://localhost:8080/",
          "height": 34
        },
        "outputId": "d96c4f06-9d6a-4386-e3bd-4047cbdafc49"
      },
      "source": [
        "df.isnull().values.any()"
      ],
      "execution_count": 20,
      "outputs": [
        {
          "output_type": "execute_result",
          "data": {
            "text/plain": [
              "False"
            ]
          },
          "metadata": {
            "tags": []
          },
          "execution_count": 20
        }
      ]
    },
    {
      "cell_type": "code",
      "metadata": {
        "id": "51uogFe7NeEF",
        "colab_type": "code",
        "colab": {
          "base_uri": "https://localhost:8080/",
          "height": 252
        },
        "outputId": "7c53002a-3c96-46cd-f78c-3e4bd7874d69"
      },
      "source": [
        "df.isnull().sum()"
      ],
      "execution_count": 21,
      "outputs": [
        {
          "output_type": "execute_result",
          "data": {
            "text/plain": [
              "country                   0\n",
              "year                      0\n",
              "uniqueid                  0\n",
              "Has a Bank account        0\n",
              "Type of Location          0\n",
              "Cell Phone Access         0\n",
              "household_size            0\n",
              "Respondent Age            0\n",
              "gender_of_respondent      0\n",
              "The relathip with head    0\n",
              "marital_status            0\n",
              "Level of Educuation       0\n",
              "Type of Job               0\n",
              "dtype: int64"
            ]
          },
          "metadata": {
            "tags": []
          },
          "execution_count": 21
        }
      ]
    },
    {
      "cell_type": "code",
      "metadata": {
        "id": "D-4I__6Os4C5",
        "colab_type": "code",
        "outputId": "292c52aa-9f6d-4bb9-bc11-cb1449087bf9",
        "colab": {
          "base_uri": "https://localhost:8080/",
          "height": 34
        }
      },
      "source": [
        "# More data cleaning procedures\n",
        "#\n",
        "df.duplicated().values.any()"
      ],
      "execution_count": 22,
      "outputs": [
        {
          "output_type": "execute_result",
          "data": {
            "text/plain": [
              "False"
            ]
          },
          "metadata": {
            "tags": []
          },
          "execution_count": 22
        }
      ]
    },
    {
      "cell_type": "code",
      "metadata": {
        "id": "pwxF17g9F_s6",
        "colab_type": "code",
        "colab": {
          "base_uri": "https://localhost:8080/",
          "height": 353
        },
        "outputId": "45b28bc0-7758-42b7-d791-0d0bca5cfb94"
      },
      "source": [
        "df.info()"
      ],
      "execution_count": 23,
      "outputs": [
        {
          "output_type": "stream",
          "text": [
            "<class 'pandas.core.frame.DataFrame'>\n",
            "Int64Index: 23343 entries, 0 to 23523\n",
            "Data columns (total 13 columns):\n",
            " #   Column                  Non-Null Count  Dtype  \n",
            "---  ------                  --------------  -----  \n",
            " 0   country                 23343 non-null  object \n",
            " 1   year                    23343 non-null  int64  \n",
            " 2   uniqueid                23343 non-null  object \n",
            " 3   Has a Bank account      23343 non-null  object \n",
            " 4   Type of Location        23343 non-null  object \n",
            " 5   Cell Phone Access       23343 non-null  object \n",
            " 6   household_size          23343 non-null  float64\n",
            " 7   Respondent Age          23343 non-null  float64\n",
            " 8   gender_of_respondent    23343 non-null  object \n",
            " 9   The relathip with head  23343 non-null  object \n",
            " 10  marital_status          23343 non-null  object \n",
            " 11  Level of Educuation     23343 non-null  object \n",
            " 12  Type of Job             23343 non-null  object \n",
            "dtypes: float64(2), int64(1), object(10)\n",
            "memory usage: 2.5+ MB\n"
          ],
          "name": "stdout"
        }
      ]
    },
    {
      "cell_type": "code",
      "metadata": {
        "id": "cHjAARPbSRGf",
        "colab_type": "code",
        "colab": {
          "base_uri": "https://localhost:8080/",
          "height": 34
        },
        "outputId": "1e598e65-cb8b-4262-ba19-8e7eabeda258"
      },
      "source": [
        "# Removing Outliers in year\n",
        "\n",
        "df = df[df['year'] <= 2018]\n",
        "df['year'].unique()\n"
      ],
      "execution_count": 24,
      "outputs": [
        {
          "output_type": "execute_result",
          "data": {
            "text/plain": [
              "array([2018, 2016, 2017])"
            ]
          },
          "metadata": {
            "tags": []
          },
          "execution_count": 24
        }
      ]
    },
    {
      "cell_type": "code",
      "metadata": {
        "id": "n87XTODzPol3",
        "colab_type": "code",
        "colab": {
          "base_uri": "https://localhost:8080/",
          "height": 287
        },
        "outputId": "8c994a0b-dbb3-4e57-f339-7903c70c8a1e"
      },
      "source": [
        "df.describe()"
      ],
      "execution_count": 25,
      "outputs": [
        {
          "output_type": "execute_result",
          "data": {
            "text/html": [
              "<div>\n",
              "<style scoped>\n",
              "    .dataframe tbody tr th:only-of-type {\n",
              "        vertical-align: middle;\n",
              "    }\n",
              "\n",
              "    .dataframe tbody tr th {\n",
              "        vertical-align: top;\n",
              "    }\n",
              "\n",
              "    .dataframe thead th {\n",
              "        text-align: right;\n",
              "    }\n",
              "</style>\n",
              "<table border=\"1\" class=\"dataframe\">\n",
              "  <thead>\n",
              "    <tr style=\"text-align: right;\">\n",
              "      <th></th>\n",
              "      <th>year</th>\n",
              "      <th>household_size</th>\n",
              "      <th>Respondent Age</th>\n",
              "    </tr>\n",
              "  </thead>\n",
              "  <tbody>\n",
              "    <tr>\n",
              "      <th>count</th>\n",
              "      <td>23340.000000</td>\n",
              "      <td>23340.000000</td>\n",
              "      <td>23340.000000</td>\n",
              "    </tr>\n",
              "    <tr>\n",
              "      <th>mean</th>\n",
              "      <td>2016.977464</td>\n",
              "      <td>3.688560</td>\n",
              "      <td>38.807069</td>\n",
              "    </tr>\n",
              "    <tr>\n",
              "      <th>std</th>\n",
              "      <td>0.849136</td>\n",
              "      <td>2.281275</td>\n",
              "      <td>16.519905</td>\n",
              "    </tr>\n",
              "    <tr>\n",
              "      <th>min</th>\n",
              "      <td>2016.000000</td>\n",
              "      <td>0.000000</td>\n",
              "      <td>16.000000</td>\n",
              "    </tr>\n",
              "    <tr>\n",
              "      <th>25%</th>\n",
              "      <td>2016.000000</td>\n",
              "      <td>2.000000</td>\n",
              "      <td>26.000000</td>\n",
              "    </tr>\n",
              "    <tr>\n",
              "      <th>50%</th>\n",
              "      <td>2017.000000</td>\n",
              "      <td>3.000000</td>\n",
              "      <td>35.000000</td>\n",
              "    </tr>\n",
              "    <tr>\n",
              "      <th>75%</th>\n",
              "      <td>2018.000000</td>\n",
              "      <td>5.000000</td>\n",
              "      <td>49.000000</td>\n",
              "    </tr>\n",
              "    <tr>\n",
              "      <th>max</th>\n",
              "      <td>2018.000000</td>\n",
              "      <td>21.000000</td>\n",
              "      <td>100.000000</td>\n",
              "    </tr>\n",
              "  </tbody>\n",
              "</table>\n",
              "</div>"
            ],
            "text/plain": [
              "               year  household_size  Respondent Age\n",
              "count  23340.000000    23340.000000    23340.000000\n",
              "mean    2016.977464        3.688560       38.807069\n",
              "std        0.849136        2.281275       16.519905\n",
              "min     2016.000000        0.000000       16.000000\n",
              "25%     2016.000000        2.000000       26.000000\n",
              "50%     2017.000000        3.000000       35.000000\n",
              "75%     2018.000000        5.000000       49.000000\n",
              "max     2018.000000       21.000000      100.000000"
            ]
          },
          "metadata": {
            "tags": []
          },
          "execution_count": 25
        }
      ]
    },
    {
      "cell_type": "code",
      "metadata": {
        "id": "MNE87SwAWzte",
        "colab_type": "code",
        "colab": {}
      },
      "source": [
        "#DROP uniqueid COLUMN BECAUSE WE DO NOT NEED IT IN OUR ANALYSIS\n",
        "\n",
        "df.drop('uniqueid',axis=1,inplace= True)"
      ],
      "execution_count": 0,
      "outputs": []
    },
    {
      "cell_type": "code",
      "metadata": {
        "id": "xnMUuxPkW9zl",
        "colab_type": "code",
        "colab": {
          "base_uri": "https://localhost:8080/",
          "height": 101
        },
        "outputId": "8baedfe4-b0ea-4106-a90f-e439d2a7fd9b"
      },
      "source": [
        "df.columns"
      ],
      "execution_count": 27,
      "outputs": [
        {
          "output_type": "execute_result",
          "data": {
            "text/plain": [
              "Index(['country', 'year', 'Has a Bank account', 'Type of Location',\n",
              "       'Cell Phone Access', 'household_size', 'Respondent Age',\n",
              "       'gender_of_respondent', 'The relathip with head', 'marital_status',\n",
              "       'Level of Educuation', 'Type of Job'],\n",
              "      dtype='object')"
            ]
          },
          "metadata": {
            "tags": []
          },
          "execution_count": 27
        }
      ]
    },
    {
      "cell_type": "markdown",
      "metadata": {
        "id": "rF2ABPsHUtbZ",
        "colab_type": "text"
      },
      "source": [
        "## 6. Exploratory Analysis"
      ]
    },
    {
      "cell_type": "markdown",
      "metadata": {
        "id": "xee4g0PrXMCu",
        "colab_type": "text"
      },
      "source": [
        "1. Univariate Analysis"
      ]
    },
    {
      "cell_type": "code",
      "metadata": {
        "id": "5nnRToniXGDK",
        "colab_type": "code",
        "outputId": "74ea1cce-2d9e-4d40-e5df-74e755e702ba",
        "colab": {
          "base_uri": "https://localhost:8080/",
          "height": 619
        }
      },
      "source": [
        "# Ploting the univariate summaries and recording our observations\n",
        "#\n",
        "col_names = ['year', 'household_size', 'Respondent Age']\n",
        "\n",
        "fig, ax = plt.subplots(len(col_names), figsize=(8,10))\n",
        "\n",
        "for i, col_val in enumerate(col_names):\n",
        "  sns.distplot(df[col_val], hist=True, ax=ax[i], color='blue')\n",
        "  ax[i].set_title('Frequency Dist' + col_val, fontsize=10)\n",
        "  ax[i].set_xlabel(col_val, fontsize=8)\n",
        "  ax[i].set_ylabel(col_val, fontsize=8)\n",
        "\n",
        "plt.show()"
      ],
      "execution_count": 39,
      "outputs": [
        {
          "output_type": "display_data",
          "data": {
            "image/png": "[encoded data removed]",
            "text/plain": [
              "<Figure size 576x720 with 3 Axes>"
            ]
          },
          "metadata": {
            "tags": [],
            "needs_background": "light"
          }
        }
      ]
    },
    {
      "cell_type": "code",
      "metadata": {
        "id": "SOWeuAFmXnaQ",
        "colab_type": "code",
        "colab": {
          "base_uri": "https://localhost:8080/",
          "height": 406
        },
        "outputId": "1ae3fb53-18c8-4c34-af3e-bf7e84715781"
      },
      "source": [
        "# Measure of Central Tendancy for categorical data\n",
        "\n",
        "df_mode =df[['country', 'year', 'Has a Bank account', 'Type of Location',\n",
        "       'Cell Phone Access', 'household_size', 'Respondent Age',\n",
        "       'gender_of_respondent', 'The relathip with head', 'marital_status',\n",
        "       'Level of Educuation', 'Type of Job']].mode()\n",
        "df_mode.T"
      ],
      "execution_count": 29,
      "outputs": [
        {
          "output_type": "execute_result",
          "data": {
            "text/html": [
              "<div>\n",
              "<style scoped>\n",
              "    .dataframe tbody tr th:only-of-type {\n",
              "        vertical-align: middle;\n",
              "    }\n",
              "\n",
              "    .dataframe tbody tr th {\n",
              "        vertical-align: top;\n",
              "    }\n",
              "\n",
              "    .dataframe thead th {\n",
              "        text-align: right;\n",
              "    }\n",
              "</style>\n",
              "<table border=\"1\" class=\"dataframe\">\n",
              "  <thead>\n",
              "    <tr style=\"text-align: right;\">\n",
              "      <th></th>\n",
              "      <th>0</th>\n",
              "    </tr>\n",
              "  </thead>\n",
              "  <tbody>\n",
              "    <tr>\n",
              "      <th>country</th>\n",
              "      <td>Rwanda</td>\n",
              "    </tr>\n",
              "    <tr>\n",
              "      <th>year</th>\n",
              "      <td>2016</td>\n",
              "    </tr>\n",
              "    <tr>\n",
              "      <th>Has a Bank account</th>\n",
              "      <td>No</td>\n",
              "    </tr>\n",
              "    <tr>\n",
              "      <th>Type of Location</th>\n",
              "      <td>Rural</td>\n",
              "    </tr>\n",
              "    <tr>\n",
              "      <th>Cell Phone Access</th>\n",
              "      <td>Yes</td>\n",
              "    </tr>\n",
              "    <tr>\n",
              "      <th>household_size</th>\n",
              "      <td>2</td>\n",
              "    </tr>\n",
              "    <tr>\n",
              "      <th>Respondent Age</th>\n",
              "      <td>30</td>\n",
              "    </tr>\n",
              "    <tr>\n",
              "      <th>gender_of_respondent</th>\n",
              "      <td>Female</td>\n",
              "    </tr>\n",
              "    <tr>\n",
              "      <th>The relathip with head</th>\n",
              "      <td>Head of Household</td>\n",
              "    </tr>\n",
              "    <tr>\n",
              "      <th>marital_status</th>\n",
              "      <td>Married/Living together</td>\n",
              "    </tr>\n",
              "    <tr>\n",
              "      <th>Level of Educuation</th>\n",
              "      <td>Primary education</td>\n",
              "    </tr>\n",
              "    <tr>\n",
              "      <th>Type of Job</th>\n",
              "      <td>Self employed</td>\n",
              "    </tr>\n",
              "  </tbody>\n",
              "</table>\n",
              "</div>"
            ],
            "text/plain": [
              "                                              0\n",
              "country                                  Rwanda\n",
              "year                                       2016\n",
              "Has a Bank account                           No\n",
              "Type of Location                          Rural\n",
              "Cell Phone Access                           Yes\n",
              "household_size                                2\n",
              "Respondent Age                               30\n",
              "gender_of_respondent                     Female\n",
              "The relathip with head        Head of Household\n",
              "marital_status          Married/Living together\n",
              "Level of Educuation           Primary education\n",
              "Type of Job                       Self employed"
            ]
          },
          "metadata": {
            "tags": []
          },
          "execution_count": 29
        }
      ]
    },
    {
      "cell_type": "code",
      "metadata": {
        "id": "ocdqTDswYOmK",
        "colab_type": "code",
        "colab": {
          "base_uri": "https://localhost:8080/",
          "height": 287
        },
        "outputId": "c79b87f7-79e3-478f-a659-4694a017f82f"
      },
      "source": [
        "# Measure of Central Tendancy for numerical\n",
        "df.describe()\n",
        "# 25% is the first quatile\n",
        "# 50% is the median\n",
        "# 75% is the third quatile\n",
        "# std is the standard deviation"
      ],
      "execution_count": 30,
      "outputs": [
        {
          "output_type": "execute_result",
          "data": {
            "text/html": [
              "<div>\n",
              "<style scoped>\n",
              "    .dataframe tbody tr th:only-of-type {\n",
              "        vertical-align: middle;\n",
              "    }\n",
              "\n",
              "    .dataframe tbody tr th {\n",
              "        vertical-align: top;\n",
              "    }\n",
              "\n",
              "    .dataframe thead th {\n",
              "        text-align: right;\n",
              "    }\n",
              "</style>\n",
              "<table border=\"1\" class=\"dataframe\">\n",
              "  <thead>\n",
              "    <tr style=\"text-align: right;\">\n",
              "      <th></th>\n",
              "      <th>year</th>\n",
              "      <th>household_size</th>\n",
              "      <th>Respondent Age</th>\n",
              "    </tr>\n",
              "  </thead>\n",
              "  <tbody>\n",
              "    <tr>\n",
              "      <th>count</th>\n",
              "      <td>23340.000000</td>\n",
              "      <td>23340.000000</td>\n",
              "      <td>23340.000000</td>\n",
              "    </tr>\n",
              "    <tr>\n",
              "      <th>mean</th>\n",
              "      <td>2016.977464</td>\n",
              "      <td>3.688560</td>\n",
              "      <td>38.807069</td>\n",
              "    </tr>\n",
              "    <tr>\n",
              "      <th>std</th>\n",
              "      <td>0.849136</td>\n",
              "      <td>2.281275</td>\n",
              "      <td>16.519905</td>\n",
              "    </tr>\n",
              "    <tr>\n",
              "      <th>min</th>\n",
              "      <td>2016.000000</td>\n",
              "      <td>0.000000</td>\n",
              "      <td>16.000000</td>\n",
              "    </tr>\n",
              "    <tr>\n",
              "      <th>25%</th>\n",
              "      <td>2016.000000</td>\n",
              "      <td>2.000000</td>\n",
              "      <td>26.000000</td>\n",
              "    </tr>\n",
              "    <tr>\n",
              "      <th>50%</th>\n",
              "      <td>2017.000000</td>\n",
              "      <td>3.000000</td>\n",
              "      <td>35.000000</td>\n",
              "    </tr>\n",
              "    <tr>\n",
              "      <th>75%</th>\n",
              "      <td>2018.000000</td>\n",
              "      <td>5.000000</td>\n",
              "      <td>49.000000</td>\n",
              "    </tr>\n",
              "    <tr>\n",
              "      <th>max</th>\n",
              "      <td>2018.000000</td>\n",
              "      <td>21.000000</td>\n",
              "      <td>100.000000</td>\n",
              "    </tr>\n",
              "  </tbody>\n",
              "</table>\n",
              "</div>"
            ],
            "text/plain": [
              "               year  household_size  Respondent Age\n",
              "count  23340.000000    23340.000000    23340.000000\n",
              "mean    2016.977464        3.688560       38.807069\n",
              "std        0.849136        2.281275       16.519905\n",
              "min     2016.000000        0.000000       16.000000\n",
              "25%     2016.000000        2.000000       26.000000\n",
              "50%     2017.000000        3.000000       35.000000\n",
              "75%     2018.000000        5.000000       49.000000\n",
              "max     2018.000000       21.000000      100.000000"
            ]
          },
          "metadata": {
            "tags": []
          },
          "execution_count": 30
        }
      ]
    },
    {
      "cell_type": "code",
      "metadata": {
        "id": "owGkcHIFYY6k",
        "colab_type": "code",
        "colab": {
          "base_uri": "https://localhost:8080/",
          "height": 118
        },
        "outputId": "93e6c393-d4e7-4601-d43b-0257a6a74cfb"
      },
      "source": [
        "# INTERQUATILE RANGE AGE\n",
        "q1_AGE,q3_AGE = np.percentile(df['Respondent Age'],[25,75])\n",
        "iqr_AGE = q3_AGE - q1_AGE\n",
        "print('THE AGE INTERQUATILE RANGE IS',iqr_AGE)\n",
        "# confidence interval\n",
        "l_bound_AGE = q1_AGE - (1.5*iqr_AGE)\n",
        "u_bound_AGE = q3_AGE + (1.5*iqr_AGE)\n",
        "print('Confidence interval is =',u_bound_AGE,'--',l_bound_AGE )\n",
        "print('\\n')\n",
        "\n",
        "# INTERQUATILE RANGE HOUSEHOLDSIZE\n",
        "q1_HOUSEHOLDSIZE,q3_HOUSEHOLDSIZE = np.percentile(df['household_size'],[25,75])\n",
        "iqr_HOUSEHOLDSIZE = q3_HOUSEHOLDSIZE - q1_HOUSEHOLDSIZE\n",
        "print('THE HOUSEHOLDSIZE INTERQUATILE RANGE IS',iqr_HOUSEHOLDSIZE)\n",
        "# confidence interval\n",
        "l_bound_HOUSEHOLDSIZE = q1_HOUSEHOLDSIZE - (1.5*iqr_HOUSEHOLDSIZE)\n",
        "u_bound_HOUSEHOLDSIZE = q3_HOUSEHOLDSIZE + (1.5*iqr_HOUSEHOLDSIZE)\n",
        "print('Confidence interval is =',u_bound_HOUSEHOLDSIZE,'--',l_bound_HOUSEHOLDSIZE)"
      ],
      "execution_count": 32,
      "outputs": [
        {
          "output_type": "stream",
          "text": [
            "THE AGE INTERQUATILE RANGE IS 23.0\n",
            "Confidence interval is = 83.5 -- -8.5\n",
            "\n",
            "\n",
            "THE HOUSEHOLDSIZE INTERQUATILE RANGE IS 3.0\n",
            "Confidence interval is = 9.5 -- -2.5\n"
          ],
          "name": "stdout"
        }
      ]
    },
    {
      "cell_type": "code",
      "metadata": {
        "id": "GlpzjU1XZLO5",
        "colab_type": "code",
        "colab": {
          "base_uri": "https://localhost:8080/",
          "height": 34
        },
        "outputId": "8f1ea2d7-255c-49ad-e8d6-241858470861"
      },
      "source": [
        "# range\n",
        "print(\"HOUSEHOLDSIZE RANGE IS =\",df['household_size'].max()-df['household_size'].min())"
      ],
      "execution_count": 34,
      "outputs": [
        {
          "output_type": "stream",
          "text": [
            "HOUSEHOLDSIZE RANGE IS = 21.0\n"
          ],
          "name": "stdout"
        }
      ]
    },
    {
      "cell_type": "code",
      "metadata": {
        "id": "p57EZ0ivZr78",
        "colab_type": "code",
        "colab": {
          "base_uri": "https://localhost:8080/",
          "height": 336
        },
        "outputId": "f0e8ff3d-224c-4cea-d256-3cdd576574e6"
      },
      "source": [
        "df.info()"
      ],
      "execution_count": 36,
      "outputs": [
        {
          "output_type": "stream",
          "text": [
            "<class 'pandas.core.frame.DataFrame'>\n",
            "Int64Index: 23340 entries, 0 to 23523\n",
            "Data columns (total 12 columns):\n",
            " #   Column                  Non-Null Count  Dtype  \n",
            "---  ------                  --------------  -----  \n",
            " 0   country                 23340 non-null  object \n",
            " 1   year                    23340 non-null  int64  \n",
            " 2   Has a Bank account      23340 non-null  object \n",
            " 3   Type of Location        23340 non-null  object \n",
            " 4   Cell Phone Access       23340 non-null  object \n",
            " 5   household_size          23340 non-null  float64\n",
            " 6   Respondent Age          23340 non-null  float64\n",
            " 7   gender_of_respondent    23340 non-null  object \n",
            " 8   The relathip with head  23340 non-null  object \n",
            " 9   marital_status          23340 non-null  object \n",
            " 10  Level of Educuation     23340 non-null  object \n",
            " 11  Type of Job             23340 non-null  object \n",
            "dtypes: float64(2), int64(1), object(9)\n",
            "memory usage: 2.3+ MB\n"
          ],
          "name": "stdout"
        }
      ]
    },
    {
      "cell_type": "code",
      "metadata": {
        "id": "-Q2SrQlWZeP-",
        "colab_type": "code",
        "colab": {
          "base_uri": "https://localhost:8080/",
          "height": 643
        },
        "outputId": "f2449e69-7439-4421-e8a2-0b6ad94120f2"
      },
      "source": [
        "# Data Vizualization\n",
        "fig, ((ax1,ax2,ax3),(ax4,ax5,ax6)) = plt.subplots(2,3,figsize = (10,7))\n",
        "\n",
        "plt.suptitle('BAR GRAPHS')\n",
        "\n",
        "plt.xticks(rotation=90)\n",
        "sns.countplot(df.country, ax=ax1)\n",
        "sns.countplot(df['Has a Bank account'], ax=ax2)\n",
        "sns.countplot(df['Type of Location'], ax=ax3)\n",
        "\n",
        "EDUCUATION = sns.countplot(df['Level of Educuation'], ax=ax4)\n",
        "EDUCUATION.set_xticklabels(EDUCUATION.get_xticklabels(),rotation = 90)\n",
        "\n",
        "JOBTYPE=sns.countplot(df['Type of Job'], ax=ax5)\n",
        "JOBTYPE.set_xticklabels(JOBTYPE.get_xticklabels(),rotation = 90)\n",
        "\n",
        "STATUS=sns.countplot(df['marital_status'], ax=ax6)"
      ],
      "execution_count": 37,
      "outputs": [
        {
          "output_type": "display_data",
          "data": {
            "image/png": "[encoded data removed]",
            "text/plain": [
              "<Figure size 720x504 with 6 Axes>"
            ]
          },
          "metadata": {
            "tags": [],
            "needs_background": "light"
          }
        }
      ]
    },
    {
      "cell_type": "code",
      "metadata": {
        "id": "OKiWB73-aenN",
        "colab_type": "code",
        "colab": {
          "base_uri": "https://localhost:8080/",
          "height": 472
        },
        "outputId": "b2b3cbe8-a1aa-4cd2-a3eb-1f7d5faa3f21"
      },
      "source": [
        "# Visualize demopgraphic data and access to phone\n",
        "\n",
        "fig, (ax4,ax5,ax6) = plt.subplots(1,3,figsize = (12,5))\n",
        "plt.suptitle('BAR GRAPHS')\n",
        "plt.xticks(rotation=90)\n",
        "sns.countplot(df['Cell Phone Access'], ax=ax4)\n",
        "sns.countplot(df['gender_of_respondent'], ax=ax5)\n",
        "sns.countplot(df['The relathip with head'], ax=ax6)"
      ],
      "execution_count": 38,
      "outputs": [
        {
          "output_type": "execute_result",
          "data": {
            "text/plain": [
              "<matplotlib.axes._subplots.AxesSubplot at 0x7f2a0e9e5128>"
            ]
          },
          "metadata": {
            "tags": []
          },
          "execution_count": 38
        },
        {
          "output_type": "display_data",
          "data": {
            "image/png": "[encoded data removed]",
            "text/plain": [
              "<Figure size 864x360 with 3 Axes>"
            ]
          },
          "metadata": {
            "tags": [],
            "needs_background": "light"
          }
        }
      ]
    },
    {
      "cell_type": "code",
      "metadata": {
        "id": "cjZEPYnabntm",
        "colab_type": "code",
        "colab": {
          "base_uri": "https://localhost:8080/",
          "height": 118
        },
        "outputId": "9fc05fd0-110f-4511-e359-e61cf05c7308"
      },
      "source": [
        "#Skewness\n",
        "print(\"HOUSEHOLD SIZE SKEWNWSS = \",df['household_size'].skew())\n",
        "print(\"HOUSEHOLD SIZE KURTOSIS = \",df['household_size'].kurt())\n",
        "print('\\n')\n",
        "print(\"AGE SKEWNWSS = \",df['Respondent Age'].skew())\n",
        "print(\"AGE KURTOSIS = \",df['Respondent Age'].kurt())"
      ],
      "execution_count": 40,
      "outputs": [
        {
          "output_type": "stream",
          "text": [
            "HOUSEHOLD SIZE SKEWNWSS =  0.9741827150450616\n",
            "HOUSEHOLD SIZE KURTOSIS =  1.1538357462528523\n",
            "\n",
            "\n",
            "AGE SKEWNWSS =  0.8406145812311228\n",
            "AGE KURTOSIS =  0.09826807013177241\n"
          ],
          "name": "stdout"
        }
      ]
    },
    {
      "cell_type": "code",
      "metadata": {
        "id": "4oTMoLtecfkV",
        "colab_type": "code",
        "colab": {
          "base_uri": "https://localhost:8080/",
          "height": 336
        },
        "outputId": "d92b1a51-1353-49a9-ba5a-72f8d84c6e0c"
      },
      "source": [
        "df.info()"
      ],
      "execution_count": 41,
      "outputs": [
        {
          "output_type": "stream",
          "text": [
            "<class 'pandas.core.frame.DataFrame'>\n",
            "Int64Index: 23340 entries, 0 to 23523\n",
            "Data columns (total 12 columns):\n",
            " #   Column                  Non-Null Count  Dtype  \n",
            "---  ------                  --------------  -----  \n",
            " 0   country                 23340 non-null  object \n",
            " 1   year                    23340 non-null  int64  \n",
            " 2   Has a Bank account      23340 non-null  object \n",
            " 3   Type of Location        23340 non-null  object \n",
            " 4   Cell Phone Access       23340 non-null  object \n",
            " 5   household_size          23340 non-null  float64\n",
            " 6   Respondent Age          23340 non-null  float64\n",
            " 7   gender_of_respondent    23340 non-null  object \n",
            " 8   The relathip with head  23340 non-null  object \n",
            " 9   marital_status          23340 non-null  object \n",
            " 10  Level of Educuation     23340 non-null  object \n",
            " 11  Type of Job             23340 non-null  object \n",
            "dtypes: float64(2), int64(1), object(9)\n",
            "memory usage: 2.9+ MB\n"
          ],
          "name": "stdout"
        }
      ]
    },
    {
      "cell_type": "code",
      "metadata": {
        "id": "6Rtipbc8cBsL",
        "colab_type": "code",
        "colab": {
          "base_uri": "https://localhost:8080/",
          "height": 1000
        },
        "outputId": "894c1747-7007-403d-c807-2901ba69b02c"
      },
      "source": [
        "# Frequency tables for categorical variables\n",
        "print('country')\n",
        "print(df.country.value_counts())\n",
        "print(\"\\n\")\n",
        "print('year')\n",
        "print(df['year'].value_counts())\n",
        "print(\"\\n\")\n",
        "print('BANK ACCOUNT ACCESS')\n",
        "print(df['Has a Bank account'].value_counts())\n",
        "print(\"\\n\")\n",
        "print('RESPONDENTS LOCATION')\n",
        "print(df['Type of Location'].value_counts())\n",
        "print(\"\\n\")\n",
        "print('CELLPHONE ACCESS')\n",
        "print(df['Cell Phone Access'].value_counts())\n",
        "print(\"\\n\")\n",
        "print('RESPONDENTS GENDER')\n",
        "print(df['gender_of_respondent'].value_counts())\n",
        "print(\"\\n\")\n",
        "print('RESPONDENT RELATIONSHIP RELATION WITH HOUSEHEAD')\n",
        "print(df['The relathip with head'].value_counts())\n",
        "print(\"\\n\")\n",
        "print('MARITAL STATUS')\n",
        "print(df['marital_status'].value_counts())\n",
        "print(\"\\n\")\n",
        "print('EDUCATION LEVEL')\n",
        "print(df['Level of Educuation'].value_counts())\n",
        "print(\"\\n\")\n",
        "print('JOBTYPE')\n",
        "print(df['Type of Job'].value_counts())"
      ],
      "execution_count": 42,
      "outputs": [
        {
          "output_type": "stream",
          "text": [
            "country\n",
            "Rwanda      8683\n",
            "Tanzania    6500\n",
            "Kenya       6062\n",
            "Uganda      2095\n",
            "Name: country, dtype: int64\n",
            "\n",
            "\n",
            "year\n",
            "2016    8683\n",
            "2018    8157\n",
            "2017    6500\n",
            "Name: year, dtype: int64\n",
            "\n",
            "\n",
            "BANK ACCOUNT ACCESS\n",
            "No     20044\n",
            "Yes     3296\n",
            "Name: Has a Bank account, dtype: int64\n",
            "\n",
            "\n",
            "RESPONDENTS LOCATION\n",
            "Rural    14263\n",
            "Urban     9077\n",
            "Name: Type of Location, dtype: int64\n",
            "\n",
            "\n",
            "CELLPHONE ACCESS\n",
            "Yes    17331\n",
            "No      6009\n",
            "Name: Cell Phone Access, dtype: int64\n",
            "\n",
            "\n",
            "RESPONDENTS GENDER\n",
            "Female    13766\n",
            "Male       9574\n",
            "Name: gender_of_respondent, dtype: int64\n",
            "\n",
            "\n",
            "RESPONDENT RELATIONSHIP RELATION WITH HOUSEHEAD\n",
            "Head of Household      12729\n",
            "Spouse                  6470\n",
            "Child                   2221\n",
            "Parent                  1069\n",
            "Other relative           662\n",
            "Other non-relatives      189\n",
            "Name: The relathip with head, dtype: int64\n",
            "\n",
            "\n",
            "MARITAL STATUS\n",
            "Married/Living together    10698\n",
            "Single/Never Married        7902\n",
            "Widowed                     2683\n",
            "Divorced/Seperated          2049\n",
            "Dont know                      8\n",
            "Name: marital_status, dtype: int64\n",
            "\n",
            "\n",
            "EDUCATION LEVEL\n",
            "Primary education                  12688\n",
            "No formal education                 4467\n",
            "Secondary education                 4206\n",
            "Tertiary education                  1143\n",
            "Vocational/Specialised training      801\n",
            "6                                     27\n",
            "Other/Dont know/RTA                    8\n",
            "Name: Level of Educuation, dtype: int64\n",
            "\n",
            "\n",
            "JOBTYPE\n",
            "Self employed                   6361\n",
            "Informally employed             5549\n",
            "Farming and Fishing             5422\n",
            "Remittance Dependent            2508\n",
            "Other Income                    1077\n",
            "Formally employed Private       1047\n",
            "No Income                        618\n",
            "Formally employed Government     386\n",
            "Government Dependent             247\n",
            "Dont Know/Refuse to answer       125\n",
            "Name: Type of Job, dtype: int64\n"
          ],
          "name": "stdout"
        }
      ]
    },
    {
      "cell_type": "markdown",
      "metadata": {
        "id": "AA14FY9oXavt",
        "colab_type": "text"
      },
      "source": [
        "2. Bivariate Analysis"
      ]
    },
    {
      "cell_type": "code",
      "metadata": {
        "id": "uxezqoUvYYBm",
        "colab_type": "code",
        "colab": {
          "base_uri": "https://localhost:8080/",
          "height": 218
        },
        "outputId": "3609c8a2-44a5-4e03-9b34-455ee6298ff6"
      },
      "source": [
        "# Analysis of our numeric data\n",
        "\n",
        "!pip install researchpy\n",
        "import researchpy as rp"
      ],
      "execution_count": 44,
      "outputs": [
        {
          "output_type": "stream",
          "text": [
            "Collecting researchpy\n",
            "  Downloading https://files.pythonhosted.org/packages/c2/e4/6fef21ad13c0b48ccbafba3ad8bd0bd65af0c9eb1aad9a82fec66c9de1ed/researchpy-0.1.9-py3-none-any.whl\n",
            "Requirement already satisfied: pandas in /usr/local/lib/python3.6/dist-packages (from researchpy) (1.0.3)\n",
            "Requirement already satisfied: statsmodels in /usr/local/lib/python3.6/dist-packages (from researchpy) (0.10.2)\n",
            "Requirement already satisfied: scipy in /usr/local/lib/python3.6/dist-packages (from researchpy) (1.4.1)\n",
            "Requirement already satisfied: numpy in /usr/local/lib/python3.6/dist-packages (from researchpy) (1.18.3)\n",
            "Requirement already satisfied: python-dateutil>=2.6.1 in /usr/local/lib/python3.6/dist-packages (from pandas->researchpy) (2.8.1)\n",
            "Requirement already satisfied: pytz>=2017.2 in /usr/local/lib/python3.6/dist-packages (from pandas->researchpy) (2018.9)\n",
            "Requirement already satisfied: patsy>=0.4.0 in /usr/local/lib/python3.6/dist-packages (from statsmodels->researchpy) (0.5.1)\n",
            "Requirement already satisfied: six>=1.5 in /usr/local/lib/python3.6/dist-packages (from python-dateutil>=2.6.1->pandas->researchpy) (1.12.0)\n",
            "Installing collected packages: researchpy\n",
            "Successfully installed researchpy-0.1.9\n"
          ],
          "name": "stdout"
        }
      ]
    },
    {
      "cell_type": "code",
      "metadata": {
        "id": "EHV_7ueedsAy",
        "colab_type": "code",
        "colab": {
          "base_uri": "https://localhost:8080/",
          "height": 353
        },
        "outputId": "958de556-2b7e-456e-dbf6-92f34eeddec5"
      },
      "source": [
        "print('AGE ANALYSIS PER COUNRY')\n",
        "print(round(rp.summary_cont(df.groupby(['country'])['Respondent Age'])))\n",
        "print('\\n')\n",
        "print('HOUSEHOLDSIZE ANALYSIS PER COUNRY')\n",
        "print(round(rp.summary_cont(df.groupby(['country'])['household_size'])))"
      ],
      "execution_count": 46,
      "outputs": [
        {
          "output_type": "stream",
          "text": [
            "AGE ANALYSIS PER COUNRY\n",
            "\n",
            "\n",
            "             N  Mean    SD   SE  95% Conf.  Interval\n",
            "country                                             \n",
            "Kenya     6062  40.0  17.0  0.0       39.0      40.0\n",
            "Rwanda    8683  39.0  16.0  0.0       39.0      40.0\n",
            "Tanzania  6500  38.0  16.0  0.0       38.0      39.0\n",
            "Uganda    2095  35.0  15.0  0.0       35.0      36.0\n",
            "\n",
            "\n",
            "HOUSEHOLDSIZE ANALYSIS PER COUNRY\n",
            "\n",
            "\n",
            "             N  Mean   SD   SE  95% Conf.  Interval\n",
            "country                                            \n",
            "Kenya     6062   4.0  2.0  0.0        4.0       4.0\n",
            "Rwanda    8683   4.0  2.0  0.0        4.0       5.0\n",
            "Tanzania  6500   2.0  1.0  0.0        2.0       2.0\n",
            "Uganda    2095   5.0  3.0  0.0        5.0       5.0\n"
          ],
          "name": "stdout"
        }
      ]
    },
    {
      "cell_type": "code",
      "metadata": {
        "id": "V91oVwTDeh4D",
        "colab_type": "code",
        "colab": {
          "base_uri": "https://localhost:8080/",
          "height": 101
        },
        "outputId": "7f024927-9fc9-4a35-f1fd-b39db42388f9"
      },
      "source": [
        "df.columns"
      ],
      "execution_count": 47,
      "outputs": [
        {
          "output_type": "execute_result",
          "data": {
            "text/plain": [
              "Index(['country', 'year', 'Has a Bank account', 'Type of Location',\n",
              "       'Cell Phone Access', 'household_size', 'Respondent Age',\n",
              "       'gender_of_respondent', 'The relathip with head', 'marital_status',\n",
              "       'Level of Educuation', 'Type of Job'],\n",
              "      dtype='object')"
            ]
          },
          "metadata": {
            "tags": []
          },
          "execution_count": 47
        }
      ]
    },
    {
      "cell_type": "code",
      "metadata": {
        "id": "5WLVZSCiea0L",
        "colab_type": "code",
        "colab": {
          "base_uri": "https://localhost:8080/",
          "height": 34
        },
        "outputId": "9ec289f3-7d34-42f9-d4ea-35e5c7f765f8"
      },
      "source": [
        "# VISUALIVING RELATIONSHIP BETWEEN GENDER AND ACCESS TO BANK ACCOUNT   (Rework Analysis)\n",
        "df.plot(x= 'Respondent Age', y= 'Has a Bank account', kind = \"bar\")\n",
        "plt.title(\"HOUSEHOLD SIZE AND AGE SCATTER PLOT\")"
      ],
      "execution_count": 0,
      "outputs": [
        {
          "output_type": "execute_result",
          "data": {
            "text/plain": [
              "Text(0.5, 1.0, 'HOUSEHOLD SIZE AND AGE SCATTER PLOT')"
            ]
          },
          "metadata": {
            "tags": []
          },
          "execution_count": 71
        }
      ]
    },
    {
      "cell_type": "code",
      "metadata": {
        "id": "3BuaG9qCfBwT",
        "colab_type": "code",
        "colab": {}
      },
      "source": [
        "df_country = df[df['Has a Bank account']=='yes']\n",
        "df_country = df_country.groupby(['country'])['Has a Bank account'].value_counts()\n",
        "df_country.plot(kind = 'bar',stacked = True)\n",
        "plt.title('Number of People with Bank Accounts with respect to country')\n",
        "plt.xlabel('COUNTRY')\n",
        "plt.ylabel('PEOPLE')\n",
        "\n"
      ],
      "execution_count": 0,
      "outputs": []
    },
    {
      "cell_type": "code",
      "metadata": {
        "id": "QzXqCjkiglQ1",
        "colab_type": "code",
        "colab": {}
      },
      "source": [
        "Education = df[df['Has a Bank account']=='yes']\n",
        "Education = Education.groupby(['Has a Bank account'])['Level of Educuation'].value_counts().plot(kind = \"line\")\n",
        "plt.xticks(rotation = 90)\n",
        "plt.title('NUMBER OF PEOPLE WITH BANK ACCOUNTS PER EDUCATION LEVEL')\n",
        "plt.xlabel('Level of Educuation')\n",
        "plt.ylabel('PEOPLE COUNT')\n",
        "# BANK ACCOUNT OWNERSHIP INCREASES AS LEVEL OF EDUVATION INCREASES\n",
        "# FEW PEOPLE WITH NO FORMAL EDUCATION  HAVE BANK ACCOUNTS"
      ],
      "execution_count": 0,
      "outputs": []
    },
    {
      "cell_type": "code",
      "metadata": {
        "id": "E6cC8M6AheiY",
        "colab_type": "code",
        "colab": {}
      },
      "source": [
        "# cheking trend of bank accounts over time\n",
        "\n",
        "time = df[df['Has a Bank account']=='yes']\n",
        "time = time.groupby(['year'])['Has a Bank account'].value_counts().plot(kind = \"line\")\n",
        "plt.xticks(rotation = 90)\n",
        "plt.title('NUMBER OF PEOPLE WITH BANK ACCOUNTS PER YEAR')\n",
        "plt.xlabel('YEAR')\n",
        "plt.ylabel('PEOPLE COUNT')\n",
        "# BANK ACCOUNT OWNERSHIP INCREASES OVER TIME"
      ],
      "execution_count": 0,
      "outputs": []
    },
    {
      "cell_type": "code",
      "metadata": {
        "id": "Rir6J4UXiFmZ",
        "colab_type": "code",
        "colab": {
          "base_uri": "https://localhost:8080/",
          "height": 101
        },
        "outputId": "998fdb51-be1e-452d-bd14-7c63e8443dab"
      },
      "source": [
        "df.columns"
      ],
      "execution_count": 57,
      "outputs": [
        {
          "output_type": "execute_result",
          "data": {
            "text/plain": [
              "Index(['country', 'year', 'Has a Bank account', 'Type of Location',\n",
              "       'Cell Phone Access', 'household_size', 'Respondent Age',\n",
              "       'gender_of_respondent', 'The relathip with head', 'marital_status',\n",
              "       'Level of Educuation', 'Type of Job'],\n",
              "      dtype='object')"
            ]
          },
          "metadata": {
            "tags": []
          },
          "execution_count": 57
        }
      ]
    },
    {
      "cell_type": "code",
      "metadata": {
        "id": "VC-wDIYnh3Dw",
        "colab_type": "code",
        "colab": {
          "base_uri": "https://localhost:8080/",
          "height": 214
        },
        "outputId": "2381248d-75af-433c-aa5d-e857dd0dda61"
      },
      "source": [
        "#Convert Categorical Data To Numerical\n",
        "df = df\n",
        "\n",
        "from sklearn.preprocessing import LabelEncoder\n",
        "Encoder = LabelEncoder()\n",
        "\n",
        "df['Has a Bank account']= Encoder.fit_transform(df['Has a Bank account'])\n",
        "df['Cell Phone Access']= Encoder.fit_transform(df['Cell Phone Access'])\n",
        "df['household_size']= Encoder.fit_transform(df['household_size'])\n",
        "df['Respondent Age']= Encoder.fit_transform(df['Respondent Age'])\n",
        "df['gender_of_respondent']= Encoder.fit_transform(df['gender_of_respondent'])\n",
        "df['The relathip with head']= Encoder.fit_transform(df['The relathip with head'])\n",
        "df['marital_status']= Encoder.fit_transform(df['marital_status'])\n",
        "df['Level of Educuation']= Encoder.fit_transform(df['Level of Educuation'])\n",
        "df['Type of Location']= Encoder.fit_transform(df['Type of Location'])\n",
        "df['Type of Job']= Encoder.fit_transform(df['Type of Job'])\n",
        "\n",
        "df.head()"
      ],
      "execution_count": 59,
      "outputs": [
        {
          "output_type": "execute_result",
          "data": {
            "text/html": [
              "<div>\n",
              "<style scoped>\n",
              "    .dataframe tbody tr th:only-of-type {\n",
              "        vertical-align: middle;\n",
              "    }\n",
              "\n",
              "    .dataframe tbody tr th {\n",
              "        vertical-align: top;\n",
              "    }\n",
              "\n",
              "    .dataframe thead th {\n",
              "        text-align: right;\n",
              "    }\n",
              "</style>\n",
              "<table border=\"1\" class=\"dataframe\">\n",
              "  <thead>\n",
              "    <tr style=\"text-align: right;\">\n",
              "      <th></th>\n",
              "      <th>country</th>\n",
              "      <th>year</th>\n",
              "      <th>Has a Bank account</th>\n",
              "      <th>Type of Location</th>\n",
              "      <th>Cell Phone Access</th>\n",
              "      <th>household_size</th>\n",
              "      <th>Respondent Age</th>\n",
              "      <th>gender_of_respondent</th>\n",
              "      <th>The relathip with head</th>\n",
              "      <th>marital_status</th>\n",
              "      <th>Level of Educuation</th>\n",
              "      <th>Type of Job</th>\n",
              "    </tr>\n",
              "  </thead>\n",
              "  <tbody>\n",
              "    <tr>\n",
              "      <th>0</th>\n",
              "      <td>Kenya</td>\n",
              "      <td>2018</td>\n",
              "      <td>1</td>\n",
              "      <td>0</td>\n",
              "      <td>1</td>\n",
              "      <td>3</td>\n",
              "      <td>8</td>\n",
              "      <td>0</td>\n",
              "      <td>5</td>\n",
              "      <td>2</td>\n",
              "      <td>4</td>\n",
              "      <td>9</td>\n",
              "    </tr>\n",
              "    <tr>\n",
              "      <th>1</th>\n",
              "      <td>Kenya</td>\n",
              "      <td>2018</td>\n",
              "      <td>0</td>\n",
              "      <td>0</td>\n",
              "      <td>0</td>\n",
              "      <td>5</td>\n",
              "      <td>54</td>\n",
              "      <td>0</td>\n",
              "      <td>1</td>\n",
              "      <td>4</td>\n",
              "      <td>1</td>\n",
              "      <td>4</td>\n",
              "    </tr>\n",
              "    <tr>\n",
              "      <th>2</th>\n",
              "      <td>Kenya</td>\n",
              "      <td>2018</td>\n",
              "      <td>1</td>\n",
              "      <td>1</td>\n",
              "      <td>1</td>\n",
              "      <td>5</td>\n",
              "      <td>10</td>\n",
              "      <td>1</td>\n",
              "      <td>3</td>\n",
              "      <td>3</td>\n",
              "      <td>6</td>\n",
              "      <td>9</td>\n",
              "    </tr>\n",
              "    <tr>\n",
              "      <th>3</th>\n",
              "      <td>Kenya</td>\n",
              "      <td>2018</td>\n",
              "      <td>0</td>\n",
              "      <td>0</td>\n",
              "      <td>1</td>\n",
              "      <td>5</td>\n",
              "      <td>18</td>\n",
              "      <td>0</td>\n",
              "      <td>1</td>\n",
              "      <td>2</td>\n",
              "      <td>3</td>\n",
              "      <td>3</td>\n",
              "    </tr>\n",
              "    <tr>\n",
              "      <th>4</th>\n",
              "      <td>Kenya</td>\n",
              "      <td>2018</td>\n",
              "      <td>0</td>\n",
              "      <td>1</td>\n",
              "      <td>0</td>\n",
              "      <td>8</td>\n",
              "      <td>10</td>\n",
              "      <td>1</td>\n",
              "      <td>0</td>\n",
              "      <td>3</td>\n",
              "      <td>3</td>\n",
              "      <td>5</td>\n",
              "    </tr>\n",
              "  </tbody>\n",
              "</table>\n",
              "</div>"
            ],
            "text/plain": [
              "  country  year  ...  Level of Educuation  Type of Job\n",
              "0   Kenya  2018  ...                    4            9\n",
              "1   Kenya  2018  ...                    1            4\n",
              "2   Kenya  2018  ...                    6            9\n",
              "3   Kenya  2018  ...                    3            3\n",
              "4   Kenya  2018  ...                    3            5\n",
              "\n",
              "[5 rows x 12 columns]"
            ]
          },
          "metadata": {
            "tags": []
          },
          "execution_count": 59
        }
      ]
    },
    {
      "cell_type": "code",
      "metadata": {
        "id": "_FcTanPFjBhF",
        "colab_type": "code",
        "colab": {
          "base_uri": "https://localhost:8080/",
          "height": 235
        },
        "outputId": "ebe3906b-bcdd-4fe2-ccac-36cf498e2757"
      },
      "source": [
        "df.nunique()"
      ],
      "execution_count": 60,
      "outputs": [
        {
          "output_type": "execute_result",
          "data": {
            "text/plain": [
              "country                    4\n",
              "year                       3\n",
              "Has a Bank account         2\n",
              "Type of Location           2\n",
              "Cell Phone Access          2\n",
              "household_size            21\n",
              "Respondent Age            85\n",
              "gender_of_respondent       2\n",
              "The relathip with head     6\n",
              "marital_status             5\n",
              "Level of Educuation        7\n",
              "Type of Job               10\n",
              "dtype: int64"
            ]
          },
          "metadata": {
            "tags": []
          },
          "execution_count": 60
        }
      ]
    },
    {
      "cell_type": "code",
      "metadata": {
        "id": "CW__TFnBjKaN",
        "colab_type": "code",
        "colab": {
          "base_uri": "https://localhost:8080/",
          "height": 520
        },
        "outputId": "fcbeb882-374a-4b70-da2d-7fdab7fdcf37"
      },
      "source": [
        "#CORRELATION PLOT BETWEEN FACTORS\n",
        "f , ax = plt.subplots(figsize = (10,6))\n",
        "corr = df.corr()\n",
        "cor = sns.heatmap(corr, annot = True, ax =ax , cmap = \"coolwarm\", fmt = '.2f',linewidths= .05)\n",
        "f.subplots_adjust(top =0.93)\n",
        "t = f.suptitle(' FINANCE VARIBALES CORRELATION')"
      ],
      "execution_count": 61,
      "outputs": [
        {
          "output_type": "display_data",
          "data": {
            "image/png": "[encoded data removed]",
            "text/plain": [
              "<Figure size 720x432 with 2 Axes>"
            ]
          },
          "metadata": {
            "tags": [],
            "needs_background": "light"
          }
        }
      ]
    },
    {
      "cell_type": "code",
      "metadata": {
        "id": "vZxgstjzjNXI",
        "colab_type": "code",
        "colab": {
          "base_uri": "https://localhost:8080/",
          "height": 34
        },
        "outputId": "c10258f5-4510-4186-d920-47a0e47fa873"
      },
      "source": [
        "#Pearsons Coefficient\n",
        "\n",
        "Relationship = df['Has a Bank account'].corr(df['Cell Phone Access'], method='pearson')\n",
        "print(Relationship)\n",
        "# MODERATE POSITIVE CORRELATION\n",
        "# AS MORE PEOPLE HAVE ACCESS TO PHONES THE BANK ACCOUNTS INCREASE"
      ],
      "execution_count": 63,
      "outputs": [
        {
          "output_type": "stream",
          "text": [
            "0.2095118918266013\n"
          ],
          "name": "stdout"
        }
      ]
    },
    {
      "cell_type": "markdown",
      "metadata": {
        "id": "Hsfur_f5Xgf1",
        "colab_type": "text"
      },
      "source": [
        "3. Multivariate Analysis"
      ]
    },
    {
      "cell_type": "code",
      "metadata": {
        "id": "u4LCSdpPdquP",
        "colab_type": "code",
        "colab": {}
      },
      "source": [
        "#DATA REDUCTION USING PRINCIPAL COMPONENT ANALYSIS\n",
        "\n",
        "x= df.drop('COUNTRY',1)\n",
        "y = df['COUNTRY']\n",
        "\n",
        "# SPLITING DATA INTO TRAINING SETS AND TEST SETS\n",
        "from sklearn.model_selection import train_test_split\n",
        "x_train,x_test,y_train,y_test = train_test_split(x,y, test_size = 0.2,random_state = 0)\n",
        "\n",
        "#Normalizing data\n",
        "from sklearn.preprocessing import StandardScaler\n",
        "sc = StandardScaler()\n",
        "x_train = sc.fit_transform(x_train)\n",
        "x_test = sc.transform(x_test)\n",
        "\n",
        "#applying PCA\n",
        "from sklearn.decomposition import PCA\n",
        "pca = PCA()\n",
        "x_train = pca.fit_transform(x_train)\n",
        "x_test = pca.transform(x_test)\n",
        "\n",
        "#Expalined varience Ratio\n",
        "explained_variance = pca.explained_variance_ratio_\n",
        "print('explained_variance =',explained_variance)\n",
        "\n",
        "#Using principal component\n",
        "pca = PCA(n_components=1)\n",
        "Xtrain = pca.fit_transform(x_train)\n",
        "x_test = pca.transform(x_test)\n",
        "\n",
        "#Training and Making Predictions\n",
        "from sklearn.ensemble import RandomForestClassifier\n",
        " Classifier = RandomForestClassifier(max_depth = 2,random_state -0)"
      ],
      "execution_count": 0,
      "outputs": []
    }
  ]
}